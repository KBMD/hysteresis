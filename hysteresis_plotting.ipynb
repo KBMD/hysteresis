{
 "metadata": {
  "name": "",
  "signature": "sha256:0fc3e83c948b2e1290e6f13a20c4271e197d4cb2bb587761891375ed4ce8655d"
 },
 "nbformat": 3,
 "nbformat_minor": 0,
 "worksheets": [
  {
   "cells": [
    {
     "cell_type": "markdown",
     "metadata": {},
     "source": [
      "# First try at reading Cp(t) then generating and plotting hysteresis curves. \n",
      "## Prettified from scratch_pad notebook, 2/17-18/2015."
     ]
    },
    {
     "cell_type": "code",
     "collapsed": false,
     "input": [
      "import numpy as np"
     ],
     "language": "python",
     "metadata": {},
     "outputs": [],
     "prompt_number": 35
    },
    {
     "cell_type": "markdown",
     "metadata": {},
     "source": [
      "### Definitions: time axis"
     ]
    },
    {
     "cell_type": "code",
     "collapsed": false,
     "input": [
      "time_step = 0.25\n",
      "start_time = 0.0\n",
      "duration = 480.0\n",
      "n_rows = int(1+duration/time_step)\n",
      "n_rows"
     ],
     "language": "python",
     "metadata": {},
     "outputs": [
      {
       "metadata": {},
       "output_type": "pyout",
       "prompt_number": 36,
       "text": [
        "1921"
       ]
      }
     ],
     "prompt_number": 36
    },
    {
     "cell_type": "markdown",
     "metadata": {},
     "source": [
      "### Definitions: PKPD parameters"
     ]
    },
    {
     "cell_type": "code",
     "collapsed": false,
     "input": [
      "ke0 = 5.91003E-03\n",
      "nHill = 2.49464E+01\n",
      "ec50 = 3.36280E+02"
     ],
     "language": "python",
     "metadata": {},
     "outputs": [],
     "prompt_number": 37
    },
    {
     "cell_type": "heading",
     "level": 3,
     "metadata": {},
     "source": [
      "Open and read data file in CSV format"
     ]
    },
    {
     "cell_type": "code",
     "collapsed": false,
     "input": [
      "pwd"
     ],
     "language": "python",
     "metadata": {},
     "outputs": [
      {
       "metadata": {},
       "output_type": "pyout",
       "prompt_number": 38,
       "text": [
        "u'C:\\\\Users\\\\kevin\\\\Documents\\\\IPython_notebooks'"
       ]
      }
     ],
     "prompt_number": 38
    },
    {
     "cell_type": "markdown",
     "metadata": {},
     "source": [
      "```python\n",
      "!xcopy C:\\Users\\kevin\\Desktop\\sync\\hysteresis_phMRI\\hysteresis_mapping_time_courses_20150217.csv .\n",
      "```"
     ]
    },
    {
     "cell_type": "code",
     "collapsed": false,
     "input": [
      "with open('hysteresis_mapping_time_courses_20150217.csv', 'rb') as datafile:\n",
      "    data = np.genfromtxt(datafile, delimiter=\",\", names=True, skip_header=3, usecols=(0,1,3,4,5,6,7,8,10,11,12,13,14,15))\n",
      "Cp = data['Cp']\n",
      "times = data['time_min']  # time, in minutes, from data file"
     ],
     "language": "python",
     "metadata": {},
     "outputs": [],
     "prompt_number": 39
    },
    {
     "cell_type": "markdown",
     "metadata": {},
     "source": [
      "**WARNING  This assumes data file time axis matches definitions above.** \n",
      "\n",
      "**Alternatively, generate it from definitions above:**\n",
      "```python\n",
      "        times = np.arange(start_time, duration+time_step, time_step)\n",
      "```"
     ]
    },
    {
     "cell_type": "markdown",
     "metadata": {},
     "source": [
      "### Calculate Ce(t)\n",
      "For now, try just our fake little Newton's method iteration.\n",
      "See [this reference](http://docs.scipy.org/doc/scipy-0.14.0/reference/generated/scipy.integrate.ode.html) for alternative ODE solvers.\n",
      "\n",
      "_Note: I'm sure this step could be optimized, but it doesn't matter much at this stage._\n",
      "_For one, given our previous efforts using Larry Bretthorst's Bayes Analysis Toolbox, scipy includes an [F2Py](http://docs.scipy.org/doc/numpy-dev/f2py/) tool to convert Fortran subroutines into callable Python functions._"
     ]
    },
    {
     "cell_type": "code",
     "collapsed": false,
     "input": [
      "Ce = np.zeros( n_rows )\n",
      "for i in range(0,times.size-1) :\n",
      "    Ce[i+1] = Ce[i] + (times[i+1]-times[i])*ke0*(Cp[i]-Ce[i])"
     ],
     "language": "python",
     "metadata": {},
     "outputs": [],
     "prompt_number": 44
    },
    {
     "cell_type": "markdown",
     "metadata": {},
     "source": [
      "### Calculate effect(t)\n",
      "_Ignores scaling by Emax and shifting by e0, but operates on the whole array._"
     ]
    },
    {
     "cell_type": "code",
     "collapsed": false,
     "input": [
      "effect = np.zeros( n_rows )\n",
      "effect = Ce**nHill/(ec50**nHill + Ce**nHill)"
     ],
     "language": "python",
     "metadata": {},
     "outputs": [],
     "prompt_number": 45
    },
    {
     "cell_type": "markdown",
     "metadata": {},
     "source": [
      "### Plot Cp(t) and Ce(t), vs. EC50, and effect(t).\n",
      "_Alternatively:_\n",
      "\n",
      "```fig, axes = plot.subplots(nrows=2, ncols=1, sharex=True, sharey=False)```\n",
      "\n",
      "See [this page](http://matplotlib.org/examples/api/two_scales.html#api-two-scales) for instructions on plotting the effect on a separate, red, y-axis labeled on the right side of the graph."
     ]
    },
    {
     "cell_type": "code",
     "collapsed": false,
     "input": [
      "import matplotlib.pyplot as plt\n",
      "%matplotlib inline\n",
      "\n",
      "figure = plt.figure(figsize=(5,6))  # figsize=(w,h) in inches\n",
      "figure.clear\n",
      "\n",
      "ax1 = figure.add_subplot(2,1,1)\n",
      "ax1.plot(times,Cp,'black',linewidth=2)\n",
      "ax1.plot(times,Ce,'black',linestyle='--',linewidth=2)\n",
      "ax1.axhline(ec50,color='gray',linewidth=1)\n",
      "ax1.axis((0,480,0,3200))\n",
      "# ax1.set_xlabel('time (min)', fontsize=12)\n",
      "ax1.set_ylabel('concentration (ng/ml)')\n",
      "ax1.legend(['plasma','effect site','EC50'],fontsize=10)\n",
      "\n",
      "ax2 = figure.add_subplot(2,1,2)\n",
      "ax2.plot(times,effect, 'red',linewidth=2)\n",
      "ax2.axis((0,480,0,1))\n",
      "ax2.set_xlabel('time (min)', fontsize=12)\n",
      "ax2.set_ylabel('effect (fraction of Emax)')\n",
      "ax2.legend(['effect'],fontsize=10)\n",
      "\n",
      "figure.savefig('standard_double_hyst_plot.png', dpi=300)  \n",
      "figure.show-"
     ],
     "language": "python",
     "metadata": {},
     "outputs": [
      {
       "metadata": {},
       "output_type": "pyout",
       "prompt_number": 46,
       "text": [
        "<bound method Figure.show of <matplotlib.figure.Figure object at 0x0000000004040128>>"
       ]
      },
      {
       "metadata": {},
       "output_type": "display_data",
       "png": "[encoded data removed]",
       "text": [
        "<matplotlib.figure.Figure at 0x4040128>"
       ]
      }
     ],
     "prompt_number": 46
    },
    {
     "cell_type": "markdown",
     "metadata": {},
     "source": [
      "**These plots use the following parameters:**"
     ]
    },
    {
     "cell_type": "code",
     "collapsed": false,
     "input": [
      "t_half_effect = np.log(2)/ke0\n",
      "(ke0, t_half_effect, ec50, nHill)"
     ],
     "language": "python",
     "metadata": {},
     "outputs": [
      {
       "metadata": {},
       "output_type": "pyout",
       "prompt_number": 50,
       "text": [
        "(0.00591003, 117.28319155062584, 336.28, 24.9464)"
       ]
      }
     ],
     "prompt_number": 50
    },
    {
     "cell_type": "markdown",
     "metadata": {},
     "source": [
      "**Units:**\n",
      "1/min, min, ng/ml, unitless"
     ]
    },
    {
     "cell_type": "code",
     "collapsed": false,
     "input": [],
     "language": "python",
     "metadata": {},
     "outputs": []
    }
   ],
   "metadata": {}
  }
 ]
}